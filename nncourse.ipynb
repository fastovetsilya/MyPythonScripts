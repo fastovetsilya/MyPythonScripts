{
 "cells": [
  {
   "cell_type": "code",
   "execution_count": 7,
   "metadata": {},
   "outputs": [
    {
     "name": "stdout",
     "output_type": "stream",
     "text": [
      "[[ 0.  0.  0.]\n",
      " [ 1.  0.  0.]\n",
      " [ 0.  1.  0.]\n",
      " [ 0.  0.  1.]\n",
      " [ 0.  0.  0.]]\n",
      "[[1 2 3]\n",
      " [4 5 6]]\n"
     ]
    }
   ],
   "source": [
    "import numpy as np\n",
    "\n",
    "print(np.eye(5,3,k=-1))\n",
    "print(np.array([[1,2,3], [4,5,6]]))"
   ]
  },
  {
   "cell_type": "code",
   "execution_count": 46,
   "metadata": {},
   "outputs": [
    {
     "name": "stdout",
     "output_type": "stream",
     "text": [
      "[[ 2.]\n",
      " [ 1.]\n",
      " [ 0.]\n",
      " [ 0.]\n",
      " [ 0.]\n",
      " [ 2.]\n",
      " [ 1.]\n",
      " [ 0.]\n",
      " [ 0.]\n",
      " [ 0.]\n",
      " [ 2.]\n",
      " [ 1.]]\n"
     ]
    }
   ],
   "source": [
    "import numpy as np\n",
    "\n",
    "a = np.eye(3,4,0)*2\n",
    "b = np.eye(3,4,1)\n",
    "mat = a + b\n",
    "mat = mat.flatten().reshape(12,1)\n",
    "print(mat)"
   ]
  },
  {
   "cell_type": "code",
   "execution_count": 31,
   "metadata": {},
   "outputs": [
    {
     "name": "stdout",
     "output_type": "stream",
     "text": [
      "[[[114 247 394]\n",
      "  [337 660 795]]\n",
      "\n",
      " [[928 148 849]\n",
      "  [465 617 784]]]\n",
      "[[[114 337]\n",
      "  [247 660]\n",
      "  [394 795]]\n",
      "\n",
      " [[928 465]\n",
      "  [148 617]\n",
      "  [849 784]]]\n"
     ]
    }
   ],
   "source": [
    "import random\n",
    "\n",
    "w = np.array(random.sample(range(1000), 12))\n",
    "w = w.reshape(2,2,3)\n",
    "print(w)\n",
    "print(w.transpose(0,2,1))\n"
   ]
  },
  {
   "cell_type": "code",
   "execution_count": 53,
   "metadata": {},
   "outputs": [
    {
     "name": "stdout",
     "output_type": "stream",
     "text": [
      "[[1 2 3 4]\n",
      " [1 2 3 4]\n",
      " [1 2 3 4]]\n",
      "[ 1.  2.  3.  4.]\n",
      "[ 2.5  2.5  2.5]\n",
      "2.5\n"
     ]
    }
   ],
   "source": [
    "v = np.array([[1,2,3,4], [1,2,3,4], [1,2,3,4]])\n",
    "print(v)\n",
    "print(v.mean(axis=0))\n",
    "print(v.mean(axis=1))\n",
    "print(v.mean(axis=None))"
   ]
  },
  {
   "cell_type": "code",
   "execution_count": 31,
   "metadata": {},
   "outputs": [
    {
     "name": "stdout",
     "output_type": "stream",
     "text": [
      "2 3\n",
      "5 9 9 10 8 9\n",
      "3 4\n",
      "6 11 3 5 4 5 3 2 5 8 2 2\n",
      "matrix shapes do not match\n"
     ]
    }
   ],
   "source": [
    "import numpy as np\n",
    "\n",
    "x_shape = tuple(map(int, input().split()))\n",
    "X = np.fromiter(map(int, input().split()), np.int).reshape(x_shape)\n",
    "y_shape = tuple(map(int, input().split()))\n",
    "Y = np.fromiter(map(int, input().split()), np.int).reshape(y_shape)\n",
    "Yt = np.transpose(Y)\n",
    "if x_shape[1] != y_shape[1]:\n",
    "    print('matrix shapes do not match')\n",
    "else:\n",
    "    Dotprod = np.dot(X,Yt)\n",
    "    print(Dotprod)\n"
   ]
  },
  {
   "cell_type": "code",
   "execution_count": 1,
   "metadata": {},
   "outputs": [
    {
     "name": "stdout",
     "output_type": "stream",
     "text": [
      "[ 22.53280632   3.61352356  11.36363636   0.06916996   0.55469506\n",
      "   6.28463439   3.79504269]\n"
     ]
    }
   ],
   "source": [
    "from urllib.request import urlopen\n",
    "import numpy as np\n",
    "\n",
    "f = urlopen('https://stepic.org/media/attachments/lesson/16462/boston_houses.csv')\n",
    "bost_houses = np.loadtxt(f, usecols=(range(7)), skiprows=1, delimiter=\",\")\n",
    "print(bost_houses.mean(axis=0))"
   ]
  },
  {
   "cell_type": "code",
   "execution_count": null,
   "metadata": {
    "collapsed": true
   },
   "outputs": [],
   "source": []
  },
  {
   "cell_type": "code",
   "execution_count": 23,
   "metadata": {},
   "outputs": [
    {
     "name": "stdout",
     "output_type": "stream",
     "text": [
      "-3.65580428506 -0.216395502369 0.0737305981755 4.41245057691 -25.4684487841 7.14320155075 -1.30108767765\n"
     ]
    }
   ],
   "source": [
    "import urllib\n",
    "from urllib import request\n",
    "import numpy as np\n",
    "\n",
    "\n",
    "fname = 'https://stepic.org/media/attachments/lesson/16462/boston_houses.csv'  # read file name from stdin\n",
    "f = urllib.request.urlopen(fname)  # open file from URL\n",
    "data = np.loadtxt(f, delimiter=',', skiprows=1)  # load data to work with\n",
    "Y = data[:,0]\n",
    "X = data[:,range(1,7)]\n",
    "X_ones = np.c_[np.ones_like(Y), X]\n",
    "X_transp = np.transpose(X_ones)\n",
    "XX_prod = np.dot(X_transp, X_ones)\n",
    "XX_inv = np.linalg.inv(XX_prod)\n",
    "Beta = np.dot(np.dot(XX_inv,X_transp),Y)\n",
    "print(*Beta)\n",
    "\n",
    "\n",
    "\n",
    "\n",
    "\n",
    "\n",
    "\n",
    "\n"
   ]
  },
  {
   "cell_type": "code",
   "execution_count": 5,
   "metadata": {},
   "outputs": [
    {
     "name": "stdout",
     "output_type": "stream",
     "text": [
      "[0 0 1 1 1 1 0 1]\n"
     ]
    }
   ],
   "source": [
    "import numpy as np\n",
    "a = np.array([1,2,3,5,6,14,2,4])\n",
    "b = a + 1\n",
    "c = (b > 3) * 1\n",
    "#c = c*1\n",
    "print (c)"
   ]
  },
  {
   "cell_type": "code",
   "execution_count": null,
   "metadata": {
    "collapsed": true
   },
   "outputs": [],
   "source": []
  },
  {
   "cell_type": "code",
   "execution_count": null,
   "metadata": {
    "collapsed": true
   },
   "outputs": [],
   "source": []
  }
 ],
 "metadata": {
  "kernelspec": {
   "display_name": "Python 3",
   "language": "python",
   "name": "python3"
  },
  "language_info": {
   "codemirror_mode": {
    "name": "ipython",
    "version": 3
   },
   "file_extension": ".py",
   "mimetype": "text/x-python",
   "name": "python",
   "nbconvert_exporter": "python",
   "pygments_lexer": "ipython3",
   "version": "3.6.1"
  }
 },
 "nbformat": 4,
 "nbformat_minor": 2
}
