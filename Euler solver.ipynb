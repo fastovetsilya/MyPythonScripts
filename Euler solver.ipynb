{
 "cells": [
  {
   "cell_type": "code",
   "execution_count": 6,
   "metadata": {},
   "outputs": [
    {
     "name": "stdout",
     "output_type": "stream",
     "text": [
      "[[   1.    1.]\n",
      " [   2.    4.]\n",
      " [   3.    9.]\n",
      " [   4.   16.]\n",
      " [   5.   25.]\n",
      " [   6.   36.]\n",
      " [   7.   49.]\n",
      " [   8.   64.]\n",
      " [   9.   81.]\n",
      " [  10.  100.]]\n",
      "[[ 1  0]\n",
      " [ 2  2]\n",
      " [ 3  6]\n",
      " [ 4 12]\n",
      " [ 5 20]\n",
      " [ 6 30]\n",
      " [ 7 42]\n",
      " [ 8 56]\n",
      " [ 9 72]\n",
      " [10 90]]\n"
     ]
    },
    {
     "data": {
      "image/png": "[encoded data removed]",
      "text/plain": [
       "<matplotlib.figure.Figure at 0x7fa679e61d68>"
      ]
     },
     "metadata": {},
     "output_type": "display_data"
    }
   ],
   "source": [
    "import numpy as np\n",
    "import matplotlib.pyplot as plt\n",
    "\n",
    "def derfunc(x):\n",
    "    y = x * 2\n",
    "    return y\n",
    "def intfunc(x):\n",
    "    y = x ** 2\n",
    "    return y\n",
    "\n",
    "n = 10 #number of iterations\n",
    "h = 1 #lag\n",
    "x = x_0 = 0 #initial x\n",
    "y = y_0 = 0 #initial y\n",
    "i = 0\n",
    "\n",
    "real_solution = np.zeros((n,2))\n",
    "real_solution[:,0] = ([i for i in range(x_0+h,x_0+h+n*h,h)])\n",
    "real_solution[:,1] = intfunc(real_solution[:,0])\n",
    "result = np.zeros((n,2), dtype = int)\n",
    "\n",
    "while (i < n):\n",
    "    y += h * derfunc(x)\n",
    "    x += h\n",
    "    result[i] = x,y\n",
    "    i += 1\n",
    "    \n",
    "print(real_solution)\n",
    "print(result)\n",
    "plt.plot(result[:,0], result[:,1], 'r', real_solution[:,0],real_solution[:,1], 'b')\n",
    "plt.show()\n",
    "\n",
    "\n"
   ]
  },
  {
   "cell_type": "code",
   "execution_count": 7,
   "metadata": {},
   "outputs": [
    {
     "data": {
      "text/plain": [
       "0"
      ]
     },
     "execution_count": 7,
     "metadata": {},
     "output_type": "execute_result"
    }
   ],
   "source": []
  },
  {
   "cell_type": "code",
   "execution_count": null,
   "metadata": {
    "collapsed": true
   },
   "outputs": [],
   "source": []
  },
  {
   "cell_type": "code",
   "execution_count": null,
   "metadata": {
    "collapsed": true
   },
   "outputs": [],
   "source": []
  }
 ],
 "metadata": {
  "kernelspec": {
   "display_name": "Python 3",
   "language": "python",
   "name": "python3"
  },
  "language_info": {
   "codemirror_mode": {
    "name": "ipython",
    "version": 3
   },
   "file_extension": ".py",
   "mimetype": "text/x-python",
   "name": "python",
   "nbconvert_exporter": "python",
   "pygments_lexer": "ipython3",
   "version": "3.6.1"
  }
 },
 "nbformat": 4,
 "nbformat_minor": 2
}
