{
 "cells": [
  {
   "cell_type": "code",
   "execution_count": 64,
   "metadata": {
    "scrolled": true
   },
   "outputs": [],
   "source": [
    "from google_images_download import google_images_download   #importing the library\n",
    "import os\n",
    "from PIL import Image"
   ]
  },
  {
   "cell_type": "code",
   "execution_count": 65,
   "metadata": {},
   "outputs": [
    {
     "name": "stdout",
     "output_type": "stream",
     "text": [
      "\n",
      "Item no.: 1 --> Item name = peeled apples\n",
      "Evaluating...\n",
      "Starting Download...\n",
      "Image URL: https://salmonfishingqueen.files.wordpress.com/2012/11/lovely-peeled-apples-from-the-orchard.jpg\n",
      "Completed Image ====> 1. lovely-peeled-apples-from-the-orchard.jpg\n",
      "\n",
      "Errors: 0\n",
      "\n",
      "{'peeled apples': ['/home/ilia/My_Scripts/MyPythonScripts/Peeling fruits/downloads/peeled apples/1. lovely-peeled-apples-from-the-orchard.jpg']}\n"
     ]
    }
   ],
   "source": [
    "response = google_images_download.googleimagesdownload()   #class instantiation\n",
    "keyword = \"peeled apples\"\n",
    "\n",
    "arguments = {\"keywords\":keyword, \"limit\":1, \"print_urls\":True}   #creating list of arguments\n",
    "paths = response.download(arguments)   #passing the arguments to the function\n",
    "print(paths)   #printing absolute paths of the downloaded images"
   ]
  },
  {
   "cell_type": "code",
   "execution_count": 66,
   "metadata": {},
   "outputs": [],
   "source": [
    "# keyword = 'Apples'\n",
    "os.getcwd()\n",
    "os.listdir(os.getcwd() + '/downloads/' + keyword)[0]\n",
    "path_to_image = os.getcwd() + '/downloads/' + keyword + '/' + os.listdir(os.getcwd() + '/downloads/' + keyword)[0]\n"
   ]
  },
  {
   "cell_type": "code",
   "execution_count": 67,
   "metadata": {},
   "outputs": [],
   "source": [
    "img = Image.open(path_to_image)\n",
    "img.show()"
   ]
  },
  {
   "cell_type": "code",
   "execution_count": null,
   "metadata": {},
   "outputs": [],
   "source": []
  }
 ],
 "metadata": {
  "kernelspec": {
   "display_name": "Python 3",
   "language": "python",
   "name": "python3"
  },
  "language_info": {
   "codemirror_mode": {
    "name": "ipython",
    "version": 3
   },
   "file_extension": ".py",
   "mimetype": "text/x-python",
   "name": "python",
   "nbconvert_exporter": "python",
   "pygments_lexer": "ipython3",
   "version": "3.7.1"
  }
 },
 "nbformat": 4,
 "nbformat_minor": 2
}
