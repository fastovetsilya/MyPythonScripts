{
 "cells": [
  {
   "cell_type": "markdown",
   "metadata": {},
   "source": [
    "## Euler solver for simple ODE"
   ]
  },
  {
   "cell_type": "code",
   "execution_count": 11,
   "metadata": {},
   "outputs": [],
   "source": [
    "import numpy as np\n",
    "import matplotlib.pyplot as plt"
   ]
  },
  {
   "cell_type": "code",
   "execution_count": 12,
   "metadata": {},
   "outputs": [],
   "source": [
    "def derfunc(x):\n",
    "    y = x * 2\n",
    "    return y\n",
    "\n",
    "def intfunc(x):\n",
    "    y = x ** 2\n",
    "    return y"
   ]
  },
  {
   "cell_type": "code",
   "execution_count": 13,
   "metadata": {},
   "outputs": [],
   "source": [
    "n = 5 #number of iterations\n",
    "h = 1 #lag\n",
    "x = x_0 = 0 #initial x\n",
    "y = y_0 = 0 #initial y\n",
    "i = 0\n",
    "\n",
    "real_solution = np.zeros((n,2))\n",
    "real_solution[:,0] = ([i for i in range(x_0 + h, x_0 + h + n * h, h)])\n",
    "real_solution[:,1] = intfunc(real_solution[:,0])\n",
    "result = np.zeros((n,2), dtype = int)"
   ]
  },
  {
   "cell_type": "code",
   "execution_count": 14,
   "metadata": {},
   "outputs": [],
   "source": [
    "while (i < n):\n",
    "    y += h * derfunc(x)\n",
    "    x += h\n",
    "    result[i] = x,y\n",
    "    i += 1"
   ]
  },
  {
   "cell_type": "code",
   "execution_count": 15,
   "metadata": {},
   "outputs": [
    {
     "name": "stdout",
     "output_type": "stream",
     "text": [
      "[[ 1.  1.]\n",
      " [ 2.  4.]\n",
      " [ 3.  9.]\n",
      " [ 4. 16.]\n",
      " [ 5. 25.]]\n",
      "[[ 1  0]\n",
      " [ 2  2]\n",
      " [ 3  6]\n",
      " [ 4 12]\n",
      " [ 5 20]]\n"
     ]
    },
    {
     "data": {
      "image/png": "[encoded data removed]",
      "text/plain": [
       "<Figure size 432x288 with 1 Axes>"
      ]
     },
     "metadata": {
      "needs_background": "light"
     },
     "output_type": "display_data"
    }
   ],
   "source": [
    "print(real_solution)\n",
    "print(result)\n",
    "plt.plot(result[:,0], result[:,1], 'r', real_solution[:,0], real_solution[:,1], 'b')\n",
    "plt.show()"
   ]
  }
 ],
 "metadata": {
  "kernelspec": {
   "display_name": "Python 3",
   "language": "python",
   "name": "python3"
  },
  "language_info": {
   "codemirror_mode": {
    "name": "ipython",
    "version": 3
   },
   "file_extension": ".py",
   "mimetype": "text/x-python",
   "name": "python",
   "nbconvert_exporter": "python",
   "pygments_lexer": "ipython3",
   "version": "3.7.5"
  }
 },
 "nbformat": 4,
 "nbformat_minor": 2
}
